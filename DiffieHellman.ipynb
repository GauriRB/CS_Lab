{
  "nbformat": 4,
  "nbformat_minor": 0,
  "metadata": {
    "colab": {
      "provenance": []
    },
    "kernelspec": {
      "name": "python3",
      "display_name": "Python 3"
    },
    "language_info": {
      "name": "python"
    }
  },
  "cells": [
    {
      "cell_type": "code",
      "execution_count": 1,
      "metadata": {
        "colab": {
          "base_uri": "https://localhost:8080/"
        },
        "id": "pU5SdkYrmd6M",
        "outputId": "e3fd9e85-641f-4469-9e31-ecc8bd45073e"
      },
      "outputs": [
        {
          "output_type": "stream",
          "name": "stdout",
          "text": [
            "The Value of P is :23\n",
            "The Value of G is :9\n",
            "The Private Key a for Alice is :4\n",
            "The Private Key b for Bob is :3\n",
            "Secret key for the Alice is : 9\n",
            "Secret Key for the Bob is : 9\n"
          ]
        }
      ],
      "source": [
        "from random import randint\n",
        "\n",
        "P = 23\n",
        "G = 9\n",
        "\n",
        "print('The Value of P is :%d'%(P))\n",
        "print('The Value of G is :%d'%(G))\n",
        "\n",
        "a = 4\n",
        "print('The Private Key a for Alice is :%d'%(a))\n",
        "x = int(pow(G,a,P))\n",
        "\n",
        "b = 3\n",
        "print('The Private Key b for Bob is :%d'%(b))\n",
        "\n",
        "y = int(pow(G,b,P))\n",
        "\n",
        "\n",
        "ka = int(pow(y,a,P))\n",
        "kb = int(pow(x,b,P))\n",
        "\n",
        "print('Secret key for the Alice is : %d'%(ka))\n",
        "print('Secret Key for the Bob is : %d'%(kb))\n"
      ]
    },
    {
      "cell_type": "code",
      "source": [
        "str = \"Gauri\"\n",
        "enc = \"\"\n",
        "for i in str:\n",
        "    enc += chr(ord(i)+ka%P)\n",
        "    #print(chr(enc), end=\"\")\n",
        "print(\"Encrypted Message is : \",enc)"
      ],
      "metadata": {
        "colab": {
          "base_uri": "https://localhost:8080/"
        },
        "id": "qzW1w-aemg29",
        "outputId": "2bfee673-84e8-4c3b-9433-ef2179f319d3"
      },
      "execution_count": 2,
      "outputs": [
        {
          "output_type": "stream",
          "name": "stdout",
          "text": [
            "Encrypted Message is :  Pj~{r\n"
          ]
        }
      ]
    },
    {
      "cell_type": "code",
      "source": [
        "dec = \"\"\n",
        "for i in enc:\n",
        "    dec += chr(ord(i)-kb%P)\n",
        "print(\"Decrypted Message is : \",dec)"
      ],
      "metadata": {
        "colab": {
          "base_uri": "https://localhost:8080/"
        },
        "id": "qFLERNpknJgb",
        "outputId": "e92cd63a-1d01-419c-edf3-98cdaca78850"
      },
      "execution_count": 3,
      "outputs": [
        {
          "output_type": "stream",
          "name": "stdout",
          "text": [
            "Decrypted Message is :  Gauri\n"
          ]
        }
      ]
    },
    {
      "cell_type": "code",
      "source": [],
      "metadata": {
        "id": "k9AdHkaynM57"
      },
      "execution_count": null,
      "outputs": []
    }
  ]
}